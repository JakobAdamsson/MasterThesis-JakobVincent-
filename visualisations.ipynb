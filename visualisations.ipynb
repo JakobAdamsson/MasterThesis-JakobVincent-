{
 "cells": [
  {
   "cell_type": "code",
   "execution_count": null,
   "metadata": {},
   "outputs": [],
   "source": [
    "from utils import *\n",
    "from bs4 import BeautifulSoup\n",
    "from PIL import Image, ImageDraw\n",
    "from IPython.display import display\n",
    "from matplotlib import pyplot as plt\n",
    "import os\n",
    "import random"
   ]
  },
  {
   "cell_type": "code",
   "execution_count": null,
   "metadata": {},
   "outputs": [],
   "source": [
    "# Read the XML file\n",
    "with open('all/PAGE-gt-CS863/PAGE-gt/public-test/e-codices_csg-0863_017_max.xml', 'r') as file:\n",
    "    xml_data = file.read()\n",
    "\n",
    "# Parse the XML using BeautifulSoup with 'lxml-xml' parser\n",
    "soup = BeautifulSoup(xml_data, 'lxml-xml')\n",
    "\n",
    "# Find all TextLine elements with an id containing 'comment'\n",
    "textlines_with_comment = soup.find_all('GraphicRegion', {'id': lambda x: x and 'region' in x})\n",
    "\n",
    "# Extract Coords points for each matching TextLine\n",
    "coordinates_by_group = {\"comment\":[],\"body\":[],\"decoration\":[]}\n",
    "search = {\"comment\":[\"TextLine\",\"comment\"],\"body\":[\"TextLine\",\"textline\"],\"decoration\":[\"GraphicRegion\",\"region\"]}\n",
    "for group in coordinates_by_group.keys():\n",
    "    textlines_with_comment = soup.find_all(search[group][0], {'id': lambda x: x and search[group][1] in x})\n",
    "    for textline in textlines_with_comment:\n",
    "        coords_points = textline.find('Coords')['points']\n",
    "        coordinate_pairs = coords_points.split()\n",
    "        coordinates_list = [tuple(map(int, pair.split(','))) for pair in coordinate_pairs]\n",
    "        coordinates_by_group[group].append(coordinates_list)\n",
    "\n",
    "\n",
    "image_dir_path = 'all/img-CS863/img/public-test/e-codices_csg-0863_017_max.jpg'\n",
    "pixel_gt_path = 'all/pixel-level-gt-CS863/pixel-level-gt/public-test/e-codices_csg-0863_017_max.png'\n",
    "img = Image.open(image_dir_path)\n",
    "pixel_gt = Image.open(pixel_gt_path)\n",
    "\n",
    "colors = {\"comment\":( 255, 255, 0, 255),\"body\":(255, 0, 255, 255),\"decoration\":(0,255, 255, 255)}\n",
    "filled_polygon_img = Image.new('RGBA', img.size, (0, 0, 0, 0))\n",
    "draw_filled_polygon = ImageDraw.Draw(filled_polygon_img)\n",
    "\n",
    "for group in coordinates_by_group.keys():\n",
    "    for coords in coordinates_by_group[group]:\n",
    "        polygon_coordinates = coords\n",
    "\n",
    "        draw_filled_polygon.polygon(polygon_coordinates,outline=None,fill=colors[group])\n",
    "\n",
    "result_img = Image.alpha_composite(img.convert('RGBA'), filled_polygon_img)\n",
    "display(filled_polygon_img)\n"
   ]
  },
  {
   "cell_type": "code",
   "execution_count": null,
   "metadata": {},
   "outputs": [],
   "source": [
    "\n",
    "arr1 = np.array(filled_polygon_img.convert('RGBA'))\n",
    "arr2 = np.array(pixel_gt)\n",
    "mask = arr2[:,:,0] != 0\n",
    "mask_three_channels = np.repeat(mask[:, :, np.newaxis], 4, axis=2)\n",
    "non_zero_intersection = (arr1!=0) & (mask_three_channels!=0)\n",
    "arr1[non_zero_intersection] = 0\n",
    "\n",
    "\n",
    "result_img = Image.alpha_composite(img.convert('RGBA'), filled_polygon_img)\n",
    "display(Image.fromarray(arr1))\n",
    "display(filled_polygon_img)"
   ]
  },
  {
   "cell_type": "code",
   "execution_count": null,
   "metadata": {},
   "outputs": [],
   "source": [
    "def random_patch_generator(page: Page, patch_size,num_patches):\n",
    "    \"\"\"\n",
    "    Divides an image represented by a numpy array into square patches.\n",
    "\n",
    "    Parameters:\n",
    "    - patch_size: integer, the size of each square patch in pixels.\n",
    "\n",
    "    Returns:\n",
    "    - A list of Patches, each representing a square patch of the original image.\n",
    "    \"\"\"\n",
    "    images = []\n",
    "    labels = []\n",
    "    height, width, _ = page.img.shape\n",
    "\n",
    "    for i in range(num_patches):\n",
    "        start_x = random.randint(0,width-832)\n",
    "        start_y = random.randint(0,height-832)\n",
    "        end_x = start_x + patch_size\n",
    "        end_y = start_y + patch_size\n",
    "\n",
    "            # Slice the image array to get the current patch and add it to the list\n",
    "        content = page.img[start_y:end_y,start_x:end_x, :]\n",
    "        gt = page.gt[start_y:end_y,start_x:end_x]\n",
    "        labels.append(gt)\n",
    "        images.append(content)\n",
    "    return images, labels"
   ]
  },
  {
   "cell_type": "code",
   "execution_count": null,
   "metadata": {},
   "outputs": [],
   "source": [
    "def parse_images_from_folder(image_dir_path, xml_dir_path,pixel_dir_path):\n",
    "    xml_files = os.listdir(xml_dir_path)\n",
    "    image_files = os.listdir(image_dir_path)\n",
    "    pixel_files = os.listdir(pixel_dir_path)\n",
    "    output = []\n",
    "    for i in range(len(xml_files)):\n",
    "        img_file_path = image_dir_path + \"/\" + image_files[i]\n",
    "        xml_file_path = xml_dir_path + \"/\" + xml_files[i]\n",
    "        pixel_gt_file_path = pixel_dir_path + \"/\" + pixel_files[i]\n",
    "        page = Page.from_file(img_file_path,xml_file_path,pixel_gt_file_path)\n",
    "        output.append(page)\n",
    "    return output\n",
    "\n",
    "haha = parse_images_from_folder(\"all/img-CS18/img/training\",\"all/PAGE-gt-CS18/PAGE-gt/training\",\"all/pixel-level-gt-CS18/pixel-level-gt/training\")"
   ]
  },
  {
   "cell_type": "code",
   "execution_count": null,
   "metadata": {},
   "outputs": [],
   "source": [
    "random_patches = random_patch_generator(haha[0],832,10)"
   ]
  },
  {
   "cell_type": "code",
   "execution_count": null,
   "metadata": {},
   "outputs": [],
   "source": [
    "display(Image.fromarray(random_patches[1].gt))"
   ]
  },
  {
   "cell_type": "code",
   "execution_count": null,
   "metadata": {},
   "outputs": [],
   "source": [
    "def draw_grid_on_image(image, grid_x, grid_y, line_color=(0, 0, 255), line_width=20):\n",
    "    \"\"\"\n",
    "    Draws a grid on an image and saves the result.\n",
    "\n",
    "    Parameters:\n",
    "    - image_path: Path to the original image.\n",
    "    - grid_x, grid_y: The number of divisions along the x and y axes.\n",
    "    - line_color: Color of the grid lines as an RGB tuple. Default is red.\n",
    "    - line_width: The width of the grid lines. Default is 1.\n",
    "    \"\"\"\n",
    "    with Image.fromarray(image) as img:\n",
    "        draw = ImageDraw.Draw(img)\n",
    "        width, height = img.size\n",
    "\n",
    "        # Calculate the distance between each line\n",
    "        step_x = width / grid_x\n",
    "        step_y = height / grid_y\n",
    "\n",
    "        # Draw vertical lines\n",
    "        for x in range(1, grid_x):\n",
    "            start = x * step_x\n",
    "            draw.line((start, 0, start, height), fill=line_color, width=line_width)\n",
    "\n",
    "        # Draw horizontal lines\n",
    "        for y in range(1, grid_y):\n",
    "            start = y * step_y\n",
    "            draw.line((0, start, width, start), fill=line_color, width=line_width)\n",
    "        #REMOVE WHEN CREATING SAMPLE PICTURES FOR REPORT\n",
    "        img  = img.resize((int(img.width/4),int(img.height/4)))\n",
    "        # Display the result\n",
    "        display(img)\n",
    "\n",
    "# Example usage\n",
    "# draw_grid_on_image('path/to/your/image.jpg', grid_x=4, grid_y=4)"
   ]
  },
  {
   "cell_type": "code",
   "execution_count": null,
   "metadata": {},
   "outputs": [],
   "source": [
    "draw_grid_on_image(haha[5].img,4,6)"
   ]
  }
 ],
 "metadata": {
  "language_info": {
   "name": "python"
  }
 },
 "nbformat": 4,
 "nbformat_minor": 2
}
