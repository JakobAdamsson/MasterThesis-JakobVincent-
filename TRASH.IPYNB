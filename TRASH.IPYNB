{
 "cells": [
  {
   "cell_type": "code",
   "execution_count": null,
   "metadata": {},
   "outputs": [],
   "source": [
    "def visualize_grid_patches(patches, grid_x, grid_y):\n",
    "    \"\"\"\n",
    "    Visualizes a list of image patches in an x by y grid.\n",
    "\n",
    "    Parameters:\n",
    "    - patches: list of numpy arrays, each representing an image patch.\n",
    "    - grid_x: number of patches per column (vertical).\n",
    "    - grid_y: number of patches per row (horizontal).\n",
    "    \"\"\"\n",
    "    # Assert that we have the right number of patches\n",
    "    assert len(patches) == grid_x * grid_y, \"The number of patches does not match the grid dimensions.\"\n",
    "    plt.subplots_adjust(left=0, bottom=0, right=1, top=1, wspace=0.0000001, hspace=0.0000001)\n",
    "\n",
    "    # Create a figure to display the patches in an x by y grid\n",
    "    fig, axes = plt.subplots(grid_x, grid_y, figsize=(grid_y * 2, grid_x * 2))\n",
    "    for i in range(grid_x):\n",
    "        for j in range(grid_y):\n",
    "            # Calculate the index of the patch in the list\n",
    "            index = i * grid_y + j\n",
    "            patch = patches[index]\n",
    "\n",
    "            if patch.shape[2] == 3:  # If the patch has 3 channels (RGB)\n",
    "                axes[i, j].imshow(patch)\n",
    "            else:  # If the patch is grayscale\n",
    "                axes[i, j].imshow(patch, cmap='gray')\n",
    "            axes[i, j].axis('off')  # Remove axes for a cleaner look\n",
    "\n",
    "    plt.tight_layout()\n",
    "    plt.show()"
   ]
  }
 ],
 "metadata": {
  "language_info": {
   "name": "python"
  }
 },
 "nbformat": 4,
 "nbformat_minor": 2
}
